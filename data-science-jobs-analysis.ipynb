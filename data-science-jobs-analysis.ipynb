{
 "cells": [
  {
   "cell_type": "code",
   "execution_count": 1,
   "id": "79dbaab8",
   "metadata": {
    "_cell_guid": "b1076dfc-b9ad-4769-8c92-a6c4dae69d19",
    "_uuid": "8f2839f25d086af736a60e9eeb907d3b93b6e0e5",
    "execution": {
     "iopub.execute_input": "2023-05-02T06:51:02.135749Z",
     "iopub.status.busy": "2023-05-02T06:51:02.135367Z",
     "iopub.status.idle": "2023-05-02T06:51:02.152917Z",
     "shell.execute_reply": "2023-05-02T06:51:02.152051Z"
    },
    "papermill": {
     "duration": 0.02647,
     "end_time": "2023-05-02T06:51:02.155320",
     "exception": false,
     "start_time": "2023-05-02T06:51:02.128850",
     "status": "completed"
    },
    "tags": []
   },
   "outputs": [
    {
     "name": "stdout",
     "output_type": "stream",
     "text": [
      "/kaggle/input/data-science-salaries-2023/ds_salaries.csv\n"
     ]
    }
   ],
   "source": [
    "# This Python 3 environment comes with many helpful analytics libraries installed\n",
    "# It is defined by the kaggle/python Docker image: https://github.com/kaggle/docker-python\n",
    "# For example, here's several helpful packages to load\n",
    "\n",
    "import numpy as np # linear algebra\n",
    "import pandas as pd # data processing, CSV file I/O (e.g. pd.read_csv)\n",
    "\n",
    "# Input data files are available in the read-only \"../input/\" directory\n",
    "# For example, running this (by clicking run or pressing Shift+Enter) will list all files under the input directory\n",
    "\n",
    "import os\n",
    "for dirname, _, filenames in os.walk('/kaggle/input'):\n",
    "    for filename in filenames:\n",
    "        print(os.path.join(dirname, filename))\n",
    "\n",
    "# You can write up to 20GB to the current directory (/kaggle/working/) that gets preserved as output when you create a version using \"Save & Run All\" \n",
    "# You can also write temporary files to /kaggle/temp/, but they won't be saved outside of the current session"
   ]
  },
  {
   "cell_type": "code",
   "execution_count": 2,
   "id": "8b4c00b0",
   "metadata": {
    "execution": {
     "iopub.execute_input": "2023-05-02T06:51:02.166487Z",
     "iopub.status.busy": "2023-05-02T06:51:02.166119Z",
     "iopub.status.idle": "2023-05-02T06:51:03.253471Z",
     "shell.execute_reply": "2023-05-02T06:51:03.252674Z"
    },
    "papermill": {
     "duration": 1.095752,
     "end_time": "2023-05-02T06:51:03.255858",
     "exception": false,
     "start_time": "2023-05-02T06:51:02.160106",
     "status": "completed"
    },
    "tags": []
   },
   "outputs": [
    {
     "name": "stderr",
     "output_type": "stream",
     "text": [
      "/opt/conda/lib/python3.10/site-packages/scipy/__init__.py:146: UserWarning: A NumPy version >=1.16.5 and <1.23.0 is required for this version of SciPy (detected version 1.23.5\n",
      "  warnings.warn(f\"A NumPy version >={np_minversion} and <{np_maxversion}\"\n"
     ]
    }
   ],
   "source": [
    "import numpy as np\n",
    "import pandas as pd\n",
    "import matplotlib.pyplot as plt\n",
    "import seaborn as sns\n",
    "\n",
    "import warnings\n",
    "warnings.filterwarnings('ignore')"
   ]
  },
  {
   "cell_type": "code",
   "execution_count": 3,
   "id": "0a892325",
   "metadata": {
    "execution": {
     "iopub.execute_input": "2023-05-02T06:51:03.266897Z",
     "iopub.status.busy": "2023-05-02T06:51:03.266502Z",
     "iopub.status.idle": "2023-05-02T06:51:03.323334Z",
     "shell.execute_reply": "2023-05-02T06:51:03.322305Z"
    },
    "papermill": {
     "duration": 0.064843,
     "end_time": "2023-05-02T06:51:03.325515",
     "exception": false,
     "start_time": "2023-05-02T06:51:03.260672",
     "status": "completed"
    },
    "tags": []
   },
   "outputs": [
    {
     "data": {
      "text/html": [
       "<div>\n",
       "<style scoped>\n",
       "    .dataframe tbody tr th:only-of-type {\n",
       "        vertical-align: middle;\n",
       "    }\n",
       "\n",
       "    .dataframe tbody tr th {\n",
       "        vertical-align: top;\n",
       "    }\n",
       "\n",
       "    .dataframe thead th {\n",
       "        text-align: right;\n",
       "    }\n",
       "</style>\n",
       "<table border=\"1\" class=\"dataframe\">\n",
       "  <thead>\n",
       "    <tr style=\"text-align: right;\">\n",
       "      <th></th>\n",
       "      <th>work_year</th>\n",
       "      <th>experience_level</th>\n",
       "      <th>employment_type</th>\n",
       "      <th>job_title</th>\n",
       "      <th>salary</th>\n",
       "      <th>salary_currency</th>\n",
       "      <th>salary_in_usd</th>\n",
       "      <th>employee_residence</th>\n",
       "      <th>remote_ratio</th>\n",
       "      <th>company_location</th>\n",
       "      <th>company_size</th>\n",
       "    </tr>\n",
       "  </thead>\n",
       "  <tbody>\n",
       "    <tr>\n",
       "      <th>0</th>\n",
       "      <td>2023</td>\n",
       "      <td>SE</td>\n",
       "      <td>FT</td>\n",
       "      <td>Principal Data Scientist</td>\n",
       "      <td>80000</td>\n",
       "      <td>EUR</td>\n",
       "      <td>85847</td>\n",
       "      <td>ES</td>\n",
       "      <td>100</td>\n",
       "      <td>ES</td>\n",
       "      <td>L</td>\n",
       "    </tr>\n",
       "    <tr>\n",
       "      <th>1</th>\n",
       "      <td>2023</td>\n",
       "      <td>MI</td>\n",
       "      <td>CT</td>\n",
       "      <td>ML Engineer</td>\n",
       "      <td>30000</td>\n",
       "      <td>USD</td>\n",
       "      <td>30000</td>\n",
       "      <td>US</td>\n",
       "      <td>100</td>\n",
       "      <td>US</td>\n",
       "      <td>S</td>\n",
       "    </tr>\n",
       "    <tr>\n",
       "      <th>2</th>\n",
       "      <td>2023</td>\n",
       "      <td>MI</td>\n",
       "      <td>CT</td>\n",
       "      <td>ML Engineer</td>\n",
       "      <td>25500</td>\n",
       "      <td>USD</td>\n",
       "      <td>25500</td>\n",
       "      <td>US</td>\n",
       "      <td>100</td>\n",
       "      <td>US</td>\n",
       "      <td>S</td>\n",
       "    </tr>\n",
       "    <tr>\n",
       "      <th>3</th>\n",
       "      <td>2023</td>\n",
       "      <td>SE</td>\n",
       "      <td>FT</td>\n",
       "      <td>Data Scientist</td>\n",
       "      <td>175000</td>\n",
       "      <td>USD</td>\n",
       "      <td>175000</td>\n",
       "      <td>CA</td>\n",
       "      <td>100</td>\n",
       "      <td>CA</td>\n",
       "      <td>M</td>\n",
       "    </tr>\n",
       "    <tr>\n",
       "      <th>4</th>\n",
       "      <td>2023</td>\n",
       "      <td>SE</td>\n",
       "      <td>FT</td>\n",
       "      <td>Data Scientist</td>\n",
       "      <td>120000</td>\n",
       "      <td>USD</td>\n",
       "      <td>120000</td>\n",
       "      <td>CA</td>\n",
       "      <td>100</td>\n",
       "      <td>CA</td>\n",
       "      <td>M</td>\n",
       "    </tr>\n",
       "  </tbody>\n",
       "</table>\n",
       "</div>"
      ],
      "text/plain": [
       "   work_year experience_level employment_type                 job_title  \\\n",
       "0       2023               SE              FT  Principal Data Scientist   \n",
       "1       2023               MI              CT               ML Engineer   \n",
       "2       2023               MI              CT               ML Engineer   \n",
       "3       2023               SE              FT            Data Scientist   \n",
       "4       2023               SE              FT            Data Scientist   \n",
       "\n",
       "   salary salary_currency  salary_in_usd employee_residence  remote_ratio  \\\n",
       "0   80000             EUR          85847                 ES           100   \n",
       "1   30000             USD          30000                 US           100   \n",
       "2   25500             USD          25500                 US           100   \n",
       "3  175000             USD         175000                 CA           100   \n",
       "4  120000             USD         120000                 CA           100   \n",
       "\n",
       "  company_location company_size  \n",
       "0               ES            L  \n",
       "1               US            S  \n",
       "2               US            S  \n",
       "3               CA            M  \n",
       "4               CA            M  "
      ]
     },
     "execution_count": 3,
     "metadata": {},
     "output_type": "execute_result"
    }
   ],
   "source": [
    "df=pd.read_csv('/kaggle/input/data-science-salaries-2023/ds_salaries.csv')\n",
    "df.head()"
   ]
  },
  {
   "cell_type": "code",
   "execution_count": 4,
   "id": "c64c362d",
   "metadata": {
    "execution": {
     "iopub.execute_input": "2023-05-02T06:51:03.336612Z",
     "iopub.status.busy": "2023-05-02T06:51:03.336239Z",
     "iopub.status.idle": "2023-05-02T06:51:03.342242Z",
     "shell.execute_reply": "2023-05-02T06:51:03.341301Z"
    },
    "papermill": {
     "duration": 0.013954,
     "end_time": "2023-05-02T06:51:03.344333",
     "exception": false,
     "start_time": "2023-05-02T06:51:03.330379",
     "status": "completed"
    },
    "tags": []
   },
   "outputs": [
    {
     "data": {
      "text/plain": [
       "(3755, 11)"
      ]
     },
     "execution_count": 4,
     "metadata": {},
     "output_type": "execute_result"
    }
   ],
   "source": [
    "df.shape"
   ]
  },
  {
   "cell_type": "code",
   "execution_count": 5,
   "id": "94cb0e9f",
   "metadata": {
    "execution": {
     "iopub.execute_input": "2023-05-02T06:51:03.356330Z",
     "iopub.status.busy": "2023-05-02T06:51:03.355951Z",
     "iopub.status.idle": "2023-05-02T06:51:03.366815Z",
     "shell.execute_reply": "2023-05-02T06:51:03.365855Z"
    },
    "papermill": {
     "duration": 0.019297,
     "end_time": "2023-05-02T06:51:03.368769",
     "exception": false,
     "start_time": "2023-05-02T06:51:03.349472",
     "status": "completed"
    },
    "tags": []
   },
   "outputs": [
    {
     "data": {
      "text/plain": [
       "array([2023, 2022, 2020, 2021])"
      ]
     },
     "execution_count": 5,
     "metadata": {},
     "output_type": "execute_result"
    }
   ],
   "source": [
    "df['work_year'].unique()"
   ]
  },
  {
   "cell_type": "code",
   "execution_count": 6,
   "id": "50aa8ab5",
   "metadata": {
    "execution": {
     "iopub.execute_input": "2023-05-02T06:51:03.380988Z",
     "iopub.status.busy": "2023-05-02T06:51:03.380316Z",
     "iopub.status.idle": "2023-05-02T06:51:03.401318Z",
     "shell.execute_reply": "2023-05-02T06:51:03.400304Z"
    },
    "papermill": {
     "duration": 0.02978,
     "end_time": "2023-05-02T06:51:03.403741",
     "exception": false,
     "start_time": "2023-05-02T06:51:03.373961",
     "status": "completed"
    },
    "tags": []
   },
   "outputs": [
    {
     "data": {
      "text/html": [
       "<div>\n",
       "<style scoped>\n",
       "    .dataframe tbody tr th:only-of-type {\n",
       "        vertical-align: middle;\n",
       "    }\n",
       "\n",
       "    .dataframe tbody tr th {\n",
       "        vertical-align: top;\n",
       "    }\n",
       "\n",
       "    .dataframe thead th {\n",
       "        text-align: right;\n",
       "    }\n",
       "</style>\n",
       "<table border=\"1\" class=\"dataframe\">\n",
       "  <thead>\n",
       "    <tr style=\"text-align: right;\">\n",
       "      <th></th>\n",
       "      <th>salary_in_usd</th>\n",
       "    </tr>\n",
       "    <tr>\n",
       "      <th>work_year</th>\n",
       "      <th></th>\n",
       "    </tr>\n",
       "  </thead>\n",
       "  <tbody>\n",
       "    <tr>\n",
       "      <th>2020</th>\n",
       "      <td>92302.631579</td>\n",
       "    </tr>\n",
       "    <tr>\n",
       "      <th>2021</th>\n",
       "      <td>94087.208696</td>\n",
       "    </tr>\n",
       "    <tr>\n",
       "      <th>2022</th>\n",
       "      <td>133338.620793</td>\n",
       "    </tr>\n",
       "    <tr>\n",
       "      <th>2023</th>\n",
       "      <td>149045.541176</td>\n",
       "    </tr>\n",
       "  </tbody>\n",
       "</table>\n",
       "</div>"
      ],
      "text/plain": [
       "           salary_in_usd\n",
       "work_year               \n",
       "2020        92302.631579\n",
       "2021        94087.208696\n",
       "2022       133338.620793\n",
       "2023       149045.541176"
      ]
     },
     "execution_count": 6,
     "metadata": {},
     "output_type": "execute_result"
    }
   ],
   "source": [
    "mean_salary_each_year=df.groupby('work_year')[['salary_in_usd']].mean()\n",
    "mean_salary_each_year"
   ]
  },
  {
   "cell_type": "code",
   "execution_count": 7,
   "id": "241ac1b3",
   "metadata": {
    "execution": {
     "iopub.execute_input": "2023-05-02T06:51:03.416283Z",
     "iopub.status.busy": "2023-05-02T06:51:03.415645Z",
     "iopub.status.idle": "2023-05-02T06:51:03.443847Z",
     "shell.execute_reply": "2023-05-02T06:51:03.442789Z"
    },
    "papermill": {
     "duration": 0.03661,
     "end_time": "2023-05-02T06:51:03.445988",
     "exception": false,
     "start_time": "2023-05-02T06:51:03.409378",
     "status": "completed"
    },
    "tags": []
   },
   "outputs": [
    {
     "data": {
      "text/html": [
       "<div>\n",
       "<style scoped>\n",
       "    .dataframe tbody tr th:only-of-type {\n",
       "        vertical-align: middle;\n",
       "    }\n",
       "\n",
       "    .dataframe tbody tr th {\n",
       "        vertical-align: top;\n",
       "    }\n",
       "\n",
       "    .dataframe thead th {\n",
       "        text-align: right;\n",
       "    }\n",
       "</style>\n",
       "<table border=\"1\" class=\"dataframe\">\n",
       "  <thead>\n",
       "    <tr style=\"text-align: right;\">\n",
       "      <th></th>\n",
       "      <th>experience_level</th>\n",
       "      <th>employment_type</th>\n",
       "      <th>job_title</th>\n",
       "      <th>salary_currency</th>\n",
       "      <th>employee_residence</th>\n",
       "      <th>company_location</th>\n",
       "      <th>company_size</th>\n",
       "    </tr>\n",
       "  </thead>\n",
       "  <tbody>\n",
       "    <tr>\n",
       "      <th>count</th>\n",
       "      <td>3755</td>\n",
       "      <td>3755</td>\n",
       "      <td>3755</td>\n",
       "      <td>3755</td>\n",
       "      <td>3755</td>\n",
       "      <td>3755</td>\n",
       "      <td>3755</td>\n",
       "    </tr>\n",
       "    <tr>\n",
       "      <th>unique</th>\n",
       "      <td>4</td>\n",
       "      <td>4</td>\n",
       "      <td>93</td>\n",
       "      <td>20</td>\n",
       "      <td>78</td>\n",
       "      <td>72</td>\n",
       "      <td>3</td>\n",
       "    </tr>\n",
       "    <tr>\n",
       "      <th>top</th>\n",
       "      <td>SE</td>\n",
       "      <td>FT</td>\n",
       "      <td>Data Engineer</td>\n",
       "      <td>USD</td>\n",
       "      <td>US</td>\n",
       "      <td>US</td>\n",
       "      <td>M</td>\n",
       "    </tr>\n",
       "    <tr>\n",
       "      <th>freq</th>\n",
       "      <td>2516</td>\n",
       "      <td>3718</td>\n",
       "      <td>1040</td>\n",
       "      <td>3224</td>\n",
       "      <td>3004</td>\n",
       "      <td>3040</td>\n",
       "      <td>3153</td>\n",
       "    </tr>\n",
       "  </tbody>\n",
       "</table>\n",
       "</div>"
      ],
      "text/plain": [
       "       experience_level employment_type      job_title salary_currency  \\\n",
       "count              3755            3755           3755            3755   \n",
       "unique                4               4             93              20   \n",
       "top                  SE              FT  Data Engineer             USD   \n",
       "freq               2516            3718           1040            3224   \n",
       "\n",
       "       employee_residence company_location company_size  \n",
       "count                3755             3755         3755  \n",
       "unique                 78               72            3  \n",
       "top                    US               US            M  \n",
       "freq                 3004             3040         3153  "
      ]
     },
     "execution_count": 7,
     "metadata": {},
     "output_type": "execute_result"
    }
   ],
   "source": [
    "df.describe(include='object')"
   ]
  },
  {
   "cell_type": "code",
   "execution_count": 8,
   "id": "c687a584",
   "metadata": {
    "execution": {
     "iopub.execute_input": "2023-05-02T06:51:03.459143Z",
     "iopub.status.busy": "2023-05-02T06:51:03.458109Z",
     "iopub.status.idle": "2023-05-02T06:51:03.470479Z",
     "shell.execute_reply": "2023-05-02T06:51:03.469552Z"
    },
    "papermill": {
     "duration": 0.021257,
     "end_time": "2023-05-02T06:51:03.472604",
     "exception": false,
     "start_time": "2023-05-02T06:51:03.451347",
     "status": "completed"
    },
    "tags": []
   },
   "outputs": [
    {
     "data": {
      "text/plain": [
       "work_year             0\n",
       "experience_level      0\n",
       "employment_type       0\n",
       "job_title             0\n",
       "salary                0\n",
       "salary_currency       0\n",
       "salary_in_usd         0\n",
       "employee_residence    0\n",
       "remote_ratio          0\n",
       "company_location      0\n",
       "company_size          0\n",
       "dtype: int64"
      ]
     },
     "execution_count": 8,
     "metadata": {},
     "output_type": "execute_result"
    }
   ],
   "source": [
    "df.isnull().sum()"
   ]
  },
  {
   "cell_type": "code",
   "execution_count": 9,
   "id": "89e22139",
   "metadata": {
    "execution": {
     "iopub.execute_input": "2023-05-02T06:51:03.485784Z",
     "iopub.status.busy": "2023-05-02T06:51:03.485157Z",
     "iopub.status.idle": "2023-05-02T06:51:03.507659Z",
     "shell.execute_reply": "2023-05-02T06:51:03.506540Z"
    },
    "papermill": {
     "duration": 0.031885,
     "end_time": "2023-05-02T06:51:03.510086",
     "exception": false,
     "start_time": "2023-05-02T06:51:03.478201",
     "status": "completed"
    },
    "tags": []
   },
   "outputs": [
    {
     "data": {
      "text/html": [
       "<div>\n",
       "<style scoped>\n",
       "    .dataframe tbody tr th:only-of-type {\n",
       "        vertical-align: middle;\n",
       "    }\n",
       "\n",
       "    .dataframe tbody tr th {\n",
       "        vertical-align: top;\n",
       "    }\n",
       "\n",
       "    .dataframe thead th {\n",
       "        text-align: right;\n",
       "    }\n",
       "</style>\n",
       "<table border=\"1\" class=\"dataframe\">\n",
       "  <thead>\n",
       "    <tr style=\"text-align: right;\">\n",
       "      <th></th>\n",
       "      <th>work_year</th>\n",
       "      <th>salary</th>\n",
       "      <th>salary_in_usd</th>\n",
       "      <th>remote_ratio</th>\n",
       "    </tr>\n",
       "  </thead>\n",
       "  <tbody>\n",
       "    <tr>\n",
       "      <th>count</th>\n",
       "      <td>3755.000000</td>\n",
       "      <td>3.755000e+03</td>\n",
       "      <td>3755.000000</td>\n",
       "      <td>3755.000000</td>\n",
       "    </tr>\n",
       "    <tr>\n",
       "      <th>mean</th>\n",
       "      <td>2022.373635</td>\n",
       "      <td>1.906956e+05</td>\n",
       "      <td>137570.389880</td>\n",
       "      <td>46.271638</td>\n",
       "    </tr>\n",
       "    <tr>\n",
       "      <th>std</th>\n",
       "      <td>0.691448</td>\n",
       "      <td>6.716765e+05</td>\n",
       "      <td>63055.625278</td>\n",
       "      <td>48.589050</td>\n",
       "    </tr>\n",
       "    <tr>\n",
       "      <th>min</th>\n",
       "      <td>2020.000000</td>\n",
       "      <td>6.000000e+03</td>\n",
       "      <td>5132.000000</td>\n",
       "      <td>0.000000</td>\n",
       "    </tr>\n",
       "    <tr>\n",
       "      <th>25%</th>\n",
       "      <td>2022.000000</td>\n",
       "      <td>1.000000e+05</td>\n",
       "      <td>95000.000000</td>\n",
       "      <td>0.000000</td>\n",
       "    </tr>\n",
       "    <tr>\n",
       "      <th>50%</th>\n",
       "      <td>2022.000000</td>\n",
       "      <td>1.380000e+05</td>\n",
       "      <td>135000.000000</td>\n",
       "      <td>0.000000</td>\n",
       "    </tr>\n",
       "    <tr>\n",
       "      <th>75%</th>\n",
       "      <td>2023.000000</td>\n",
       "      <td>1.800000e+05</td>\n",
       "      <td>175000.000000</td>\n",
       "      <td>100.000000</td>\n",
       "    </tr>\n",
       "    <tr>\n",
       "      <th>max</th>\n",
       "      <td>2023.000000</td>\n",
       "      <td>3.040000e+07</td>\n",
       "      <td>450000.000000</td>\n",
       "      <td>100.000000</td>\n",
       "    </tr>\n",
       "  </tbody>\n",
       "</table>\n",
       "</div>"
      ],
      "text/plain": [
       "         work_year        salary  salary_in_usd  remote_ratio\n",
       "count  3755.000000  3.755000e+03    3755.000000   3755.000000\n",
       "mean   2022.373635  1.906956e+05  137570.389880     46.271638\n",
       "std       0.691448  6.716765e+05   63055.625278     48.589050\n",
       "min    2020.000000  6.000000e+03    5132.000000      0.000000\n",
       "25%    2022.000000  1.000000e+05   95000.000000      0.000000\n",
       "50%    2022.000000  1.380000e+05  135000.000000      0.000000\n",
       "75%    2023.000000  1.800000e+05  175000.000000    100.000000\n",
       "max    2023.000000  3.040000e+07  450000.000000    100.000000"
      ]
     },
     "execution_count": 9,
     "metadata": {},
     "output_type": "execute_result"
    }
   ],
   "source": [
    "df.describe()"
   ]
  },
  {
   "cell_type": "code",
   "execution_count": 10,
   "id": "f4db3aaf",
   "metadata": {
    "execution": {
     "iopub.execute_input": "2023-05-02T06:51:03.523626Z",
     "iopub.status.busy": "2023-05-02T06:51:03.522778Z",
     "iopub.status.idle": "2023-05-02T06:51:03.793918Z",
     "shell.execute_reply": "2023-05-02T06:51:03.792807Z"
    },
    "papermill": {
     "duration": 0.280376,
     "end_time": "2023-05-02T06:51:03.796280",
     "exception": false,
     "start_time": "2023-05-02T06:51:03.515904",
     "status": "completed"
    },
    "tags": []
   },
   "outputs": [
    {
     "data": {
      "image/png": "[encoded data removed]",
      "text/plain": [
       "<Figure size 1000x400 with 1 Axes>"
      ]
     },
     "metadata": {},
     "output_type": "display_data"
    }
   ],
   "source": [
    "plt.figure(figsize=(10,4))\n",
    "plt.plot(mean_salary_each_year.index,mean_salary_each_year['salary_in_usd'])\n",
    "plt.title('Salary Trend over the years')\n",
    "plt.xlabel('year')\n",
    "plt.ylabel('salary_in_usd')\n",
    "plt.show()"
   ]
  },
  {
   "cell_type": "code",
   "execution_count": 11,
   "id": "ab66414f",
   "metadata": {
    "execution": {
     "iopub.execute_input": "2023-05-02T06:51:03.811483Z",
     "iopub.status.busy": "2023-05-02T06:51:03.810514Z",
     "iopub.status.idle": "2023-05-02T06:51:04.065262Z",
     "shell.execute_reply": "2023-05-02T06:51:04.064106Z"
    },
    "papermill": {
     "duration": 0.264886,
     "end_time": "2023-05-02T06:51:04.067621",
     "exception": false,
     "start_time": "2023-05-02T06:51:03.802735",
     "status": "completed"
    },
    "tags": []
   },
   "outputs": [
    {
     "data": {
      "text/plain": [
       "<seaborn.axisgrid.FacetGrid at 0x721900fa1f60>"
      ]
     },
     "execution_count": 11,
     "metadata": {},
     "output_type": "execute_result"
    },
    {
     "data": {
      "image/png": "[encoded data removed]",
      "text/plain": [
       "<Figure size 500x500 with 1 Axes>"
      ]
     },
     "metadata": {},
     "output_type": "display_data"
    }
   ],
   "source": [
    "sns.catplot(data=df, x=\"company_size\",kind=\"count\", palette=\"ch:.25\")"
   ]
  },
  {
   "cell_type": "code",
   "execution_count": 12,
   "id": "1c0f9868",
   "metadata": {
    "execution": {
     "iopub.execute_input": "2023-05-02T06:51:04.083002Z",
     "iopub.status.busy": "2023-05-02T06:51:04.082568Z",
     "iopub.status.idle": "2023-05-02T06:51:04.408846Z",
     "shell.execute_reply": "2023-05-02T06:51:04.407775Z"
    },
    "papermill": {
     "duration": 0.337009,
     "end_time": "2023-05-02T06:51:04.411438",
     "exception": false,
     "start_time": "2023-05-02T06:51:04.074429",
     "status": "completed"
    },
    "tags": []
   },
   "outputs": [
    {
     "data": {
      "text/plain": [
       "<AxesSubplot: xlabel='company_size', ylabel='remote_ratio'>"
      ]
     },
     "execution_count": 12,
     "metadata": {},
     "output_type": "execute_result"
    },
    {
     "data": {
      "image/png": "[encoded data removed]",
      "text/plain": [
       "<Figure size 640x480 with 1 Axes>"
      ]
     },
     "metadata": {},
     "output_type": "display_data"
    }
   ],
   "source": [
    "sns.barplot(data=df,x=\"company_size\",y=\"remote_ratio\",)"
   ]
  },
  {
   "cell_type": "code",
   "execution_count": 13,
   "id": "eef3cafe",
   "metadata": {
    "execution": {
     "iopub.execute_input": "2023-05-02T06:51:04.428284Z",
     "iopub.status.busy": "2023-05-02T06:51:04.427261Z",
     "iopub.status.idle": "2023-05-02T06:51:04.437050Z",
     "shell.execute_reply": "2023-05-02T06:51:04.436060Z"
    },
    "papermill": {
     "duration": 0.020667,
     "end_time": "2023-05-02T06:51:04.439295",
     "exception": false,
     "start_time": "2023-05-02T06:51:04.418628",
     "status": "completed"
    },
    "tags": []
   },
   "outputs": [
    {
     "data": {
      "text/plain": [
       "Data Engineer                          1040\n",
       "Data Scientist                          840\n",
       "Data Analyst                            612\n",
       "Machine Learning Engineer               289\n",
       "Analytics Engineer                      103\n",
       "                                       ... \n",
       "Principal Machine Learning Engineer       1\n",
       "Azure Data Engineer                       1\n",
       "Manager Data Management                   1\n",
       "Marketing Data Engineer                   1\n",
       "Finance Data Analyst                      1\n",
       "Name: job_title, Length: 93, dtype: int64"
      ]
     },
     "execution_count": 13,
     "metadata": {},
     "output_type": "execute_result"
    }
   ],
   "source": [
    "df['job_title'].value_counts()"
   ]
  },
  {
   "cell_type": "code",
   "execution_count": 14,
   "id": "dc9a7ac3",
   "metadata": {
    "execution": {
     "iopub.execute_input": "2023-05-02T06:51:04.455679Z",
     "iopub.status.busy": "2023-05-02T06:51:04.455298Z",
     "iopub.status.idle": "2023-05-02T06:51:04.464491Z",
     "shell.execute_reply": "2023-05-02T06:51:04.463534Z"
    },
    "papermill": {
     "duration": 0.019944,
     "end_time": "2023-05-02T06:51:04.466701",
     "exception": false,
     "start_time": "2023-05-02T06:51:04.446757",
     "status": "completed"
    },
    "tags": []
   },
   "outputs": [
    {
     "data": {
      "text/plain": [
       "Data Engineer                1040\n",
       "Data Scientist                840\n",
       "Data Analyst                  612\n",
       "Machine Learning Engineer     289\n",
       "Analytics Engineer            103\n",
       "Data Architect                101\n",
       "Research Scientist             82\n",
       "Data Science Manager           58\n",
       "Applied Scientist              58\n",
       "Research Engineer              37\n",
       "Name: job_title, dtype: int64"
      ]
     },
     "execution_count": 14,
     "metadata": {},
     "output_type": "execute_result"
    }
   ],
   "source": [
    "top_10_jobs=df['job_title'].value_counts()[:10]\n",
    "top_10_jobs"
   ]
  },
  {
   "cell_type": "code",
   "execution_count": 15,
   "id": "1beba202",
   "metadata": {
    "execution": {
     "iopub.execute_input": "2023-05-02T06:51:04.483780Z",
     "iopub.status.busy": "2023-05-02T06:51:04.482699Z",
     "iopub.status.idle": "2023-05-02T06:51:04.723012Z",
     "shell.execute_reply": "2023-05-02T06:51:04.721629Z"
    },
    "papermill": {
     "duration": 0.252485,
     "end_time": "2023-05-02T06:51:04.726652",
     "exception": false,
     "start_time": "2023-05-02T06:51:04.474167",
     "status": "completed"
    },
    "tags": []
   },
   "outputs": [
    {
     "data": {
      "image/png": "[encoded data removed]",
      "text/plain": [
       "<Figure size 600x600 with 1 Axes>"
      ]
     },
     "metadata": {},
     "output_type": "display_data"
    }
   ],
   "source": [
    "plt.figure(figsize=(6,6))\n",
    "palette_color = sns.color_palette('flare')\n",
    "plt.pie(top_10_jobs,labels=top_10_jobs.index,colors=palette_color,autopct='%.2f')\n",
    "plt.show()"
   ]
  },
  {
   "cell_type": "code",
   "execution_count": 16,
   "id": "a52d49ec",
   "metadata": {
    "execution": {
     "iopub.execute_input": "2023-05-02T06:51:04.746747Z",
     "iopub.status.busy": "2023-05-02T06:51:04.746355Z",
     "iopub.status.idle": "2023-05-02T06:51:04.754854Z",
     "shell.execute_reply": "2023-05-02T06:51:04.753790Z"
    },
    "papermill": {
     "duration": 0.020099,
     "end_time": "2023-05-02T06:51:04.756970",
     "exception": false,
     "start_time": "2023-05-02T06:51:04.736871",
     "status": "completed"
    },
    "tags": []
   },
   "outputs": [
    {
     "data": {
      "text/plain": [
       "SE    2516\n",
       "MI     805\n",
       "EN     320\n",
       "EX     114\n",
       "Name: experience_level, dtype: int64"
      ]
     },
     "execution_count": 16,
     "metadata": {},
     "output_type": "execute_result"
    }
   ],
   "source": [
    "df['experience_level'].value_counts()"
   ]
  },
  {
   "cell_type": "code",
   "execution_count": 17,
   "id": "6e703504",
   "metadata": {
    "execution": {
     "iopub.execute_input": "2023-05-02T06:51:04.775800Z",
     "iopub.status.busy": "2023-05-02T06:51:04.774604Z",
     "iopub.status.idle": "2023-05-02T06:51:05.032914Z",
     "shell.execute_reply": "2023-05-02T06:51:05.031803Z"
    },
    "papermill": {
     "duration": 0.269782,
     "end_time": "2023-05-02T06:51:05.035031",
     "exception": false,
     "start_time": "2023-05-02T06:51:04.765249",
     "status": "completed"
    },
    "tags": []
   },
   "outputs": [
    {
     "data": {
      "text/plain": [
       "<AxesSubplot: xlabel='company_size', ylabel='count'>"
      ]
     },
     "execution_count": 17,
     "metadata": {},
     "output_type": "execute_result"
    },
    {
     "data": {
      "image/png": "[encoded data removed]",
      "text/plain": [
       "<Figure size 640x480 with 1 Axes>"
      ]
     },
     "metadata": {},
     "output_type": "display_data"
    }
   ],
   "source": [
    "sns.countplot(data=df,x=\"company_size\",hue=\"experience_level\")"
   ]
  },
  {
   "cell_type": "code",
   "execution_count": null,
   "id": "928fa308",
   "metadata": {
    "papermill": {
     "duration": 0.008277,
     "end_time": "2023-05-02T06:51:05.052084",
     "exception": false,
     "start_time": "2023-05-02T06:51:05.043807",
     "status": "completed"
    },
    "tags": []
   },
   "outputs": [],
   "source": []
  }
 ],
 "metadata": {
  "kernelspec": {
   "display_name": "Python 3",
   "language": "python",
   "name": "python3"
  },
  "language_info": {
   "codemirror_mode": {
    "name": "ipython",
    "version": 3
   },
   "file_extension": ".py",
   "mimetype": "text/x-python",
   "name": "python",
   "nbconvert_exporter": "python",
   "pygments_lexer": "ipython3",
   "version": "3.10.10"
  },
  "papermill": {
   "default_parameters": {},
   "duration": 13.42709,
   "end_time": "2023-05-02T06:51:05.981204",
   "environment_variables": {},
   "exception": null,
   "input_path": "__notebook__.ipynb",
   "output_path": "__notebook__.ipynb",
   "parameters": {},
   "start_time": "2023-05-02T06:50:52.554114",
   "version": "2.4.0"
  }
 },
 "nbformat": 4,
 "nbformat_minor": 5
}
